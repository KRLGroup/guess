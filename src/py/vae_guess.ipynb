{
 "cells": [
  {
   "cell_type": "code",
   "execution_count": 1,
   "metadata": {},
   "outputs": [
    {
     "name": "stderr",
     "output_type": "stream",
     "text": [
      "Using TensorFlow backend.\n"
     ]
    }
   ],
   "source": [
    "import numpy as np\n",
    "import matplotlib.pyplot as plt\n",
    "import argparse\n",
    "import os\n",
    "\n",
    "from keras.models import Model\n",
    "from keras.layers import Lambda, Input, Dense\n",
    "from keras.losses import mse, binary_crossentropy\n",
    "from keras.utils import plot_model\n",
    "from keras import backend as K"
   ]
  },
  {
   "cell_type": "code",
   "execution_count": 2,
   "metadata": {},
   "outputs": [],
   "source": [
    "def sampling(args):\n",
    "    z_mean, z_log_var = args\n",
    "    batch = K.shape(z_mean)[0]\n",
    "    dim = K.int_shape(z_mean)[1]\n",
    "    # by default, random_normal has mean=0 and std=1.0\n",
    "    epsilon = K.random_normal(shape=(batch, dim))\n",
    "    return z_mean + K.exp(0.5 * z_log_var) * epsilon"
   ]
  },
  {
   "cell_type": "code",
   "execution_count": 3,
   "metadata": {},
   "outputs": [],
   "source": [
    "clip_scans_at = 8\n",
    "data = np.loadtxt(\"../../dataset/diag_labrococo.txt\").astype('float32')\n",
    "np.clip(data, a_min=0, a_max=clip_scans_at, out=data);"
   ]
  },
  {
   "cell_type": "code",
   "execution_count": 4,
   "metadata": {},
   "outputs": [
    {
     "name": "stdout",
     "output_type": "stream",
     "text": [
      "(2794, 500) 1.0 0.0\n"
     ]
    }
   ],
   "source": [
    "ts = data[:, :7]\n",
    "# scans = data[:, 7:] / clip_scans_at\n",
    "scans = data[:, 100:600] / clip_scans_at  # robot embodiment\n",
    "\n",
    "print(scans.shape, np.max(scans), np.min(scans))"
   ]
  },
  {
   "cell_type": "code",
   "execution_count": 5,
   "metadata": {},
   "outputs": [
    {
     "data": {
      "text/plain": [
       "[<matplotlib.lines.Line2D at 0x7f908d2e9f98>]"
      ]
     },
     "execution_count": 5,
     "metadata": {},
     "output_type": "execute_result"
    },
    {
     "data": {
      "image/png": "[encoded data removed]",
      "text/plain": [
       "<Figure size 720x144 with 1 Axes>"
      ]
     },
     "metadata": {
      "needs_background": "light"
     },
     "output_type": "display_data"
    }
   ],
   "source": [
    "scan_idx = 50\n",
    "plt.figure(figsize=(10, 2))\n",
    "#for i in range(int(scans.shape[0] / 2)):\n",
    "plt.plot(np.arange(scans.shape[1]), scans[scan_idx,:])"
   ]
  },
  {
   "cell_type": "code",
   "execution_count": 6,
   "metadata": {},
   "outputs": [
    {
     "name": "stdout",
     "output_type": "stream",
     "text": [
      "scans: (2794, 500)\n",
      "xtrain: (2514, 500)\n",
      "xtest: (280, 500)\n"
     ]
    }
   ],
   "source": [
    "split_data_at = .9\n",
    "x_train = scans[:int(scans.shape[0]*split_data_at),:]\n",
    "x_test = scans[int(scans.shape[0]*split_data_at):,:]\n",
    "original_dim = scans.shape[1]\n",
    "\n",
    "print(\"scans:\", scans.shape)\n",
    "print(\"xtrain:\", x_train.shape)\n",
    "print(\"xtest:\", x_test.shape)"
   ]
  },
  {
   "cell_type": "code",
   "execution_count": 7,
   "metadata": {},
   "outputs": [
    {
     "name": "stdout",
     "output_type": "stream",
     "text": [
      "__________________________________________________________________________________________________\n",
      "Layer (type)                    Output Shape         Param #     Connected to                     \n",
      "==================================================================================================\n",
      "encoder_input (InputLayer)      (None, 500)          0                                            \n",
      "__________________________________________________________________________________________________\n",
      "dense_1 (Dense)                 (None, 128)          64128       encoder_input[0][0]              \n",
      "__________________________________________________________________________________________________\n",
      "z_mean (Dense)                  (None, 10)           1290        dense_1[0][0]                    \n",
      "__________________________________________________________________________________________________\n",
      "z_log_var (Dense)               (None, 10)           1290        dense_1[0][0]                    \n",
      "__________________________________________________________________________________________________\n",
      "z (Lambda)                      (None, 10)           0           z_mean[0][0]                     \n",
      "                                                                 z_log_var[0][0]                  \n",
      "==================================================================================================\n",
      "Total params: 66,708\n",
      "Trainable params: 66,708\n",
      "Non-trainable params: 0\n",
      "__________________________________________________________________________________________________\n",
      "_________________________________________________________________\n",
      "Layer (type)                 Output Shape              Param #   \n",
      "=================================================================\n",
      "z_sampling (InputLayer)      (None, 10)                0         \n",
      "_________________________________________________________________\n",
      "dense_2 (Dense)              (None, 128)               1408      \n",
      "_________________________________________________________________\n",
      "dense_3 (Dense)              (None, 500)               64500     \n",
      "=================================================================\n",
      "Total params: 65,908\n",
      "Trainable params: 65,908\n",
      "Non-trainable params: 0\n",
      "_________________________________________________________________\n"
     ]
    }
   ],
   "source": [
    "# network parameters\n",
    "input_shape = (original_dim, )\n",
    "intermediate_dim = 128\n",
    "batch_size = 128\n",
    "latent_dim = 10\n",
    "\n",
    "# VAE model = encoder + decoder\n",
    "# build encoder model\n",
    "inputs = Input(shape=input_shape, name='encoder_input')\n",
    "x = Dense(intermediate_dim, activation='relu')(inputs)\n",
    "z_mean = Dense(latent_dim, name='z_mean')(x)\n",
    "z_log_var = Dense(latent_dim, name='z_log_var')(x)\n",
    "\n",
    "# use reparameterization trick to push the sampling out as input\n",
    "# note that \"output_shape\" isn't necessary with the TensorFlow backend\n",
    "z = Lambda(sampling, output_shape=(latent_dim,), name='z')([z_mean, z_log_var])\n",
    "\n",
    "# instantiate encoder model\n",
    "encoder = Model(inputs, [z_mean, z_log_var, z], name='encoder')\n",
    "encoder.summary()\n",
    "#plot_model(encoder, to_file='vae_mlp_encoder.png', show_shapes=True)\n",
    "\n",
    "# build decoder model\n",
    "latent_inputs = Input(shape=(latent_dim,), name='z_sampling')\n",
    "x = Dense(intermediate_dim, activation='relu')(latent_inputs)\n",
    "outputs = Dense(original_dim, activation='sigmoid')(x)\n",
    "\n",
    "# instantiate decoder model\n",
    "decoder = Model(latent_inputs, outputs, name='decoder')\n",
    "decoder.summary()\n",
    "#plot_model(decoder, to_file='vae_mlp_decoder.png', show_shapes=True)\n",
    "\n",
    "# instantiate VAE model\n",
    "outputs = decoder(encoder(inputs)[2])\n",
    "vae = Model(inputs, outputs, name='vae_mlp')"
   ]
  },
  {
   "cell_type": "code",
   "execution_count": 8,
   "metadata": {},
   "outputs": [],
   "source": [
    "# models = (encoder, decoder)\n",
    "# data = x_test\n",
    "reconstruction_loss = binary_crossentropy(inputs, outputs)"
   ]
  },
  {
   "cell_type": "code",
   "execution_count": 9,
   "metadata": {
    "scrolled": true
   },
   "outputs": [
    {
     "name": "stdout",
     "output_type": "stream",
     "text": [
      "_________________________________________________________________\n",
      "Layer (type)                 Output Shape              Param #   \n",
      "=================================================================\n",
      "encoder_input (InputLayer)   (None, 500)               0         \n",
      "_________________________________________________________________\n",
      "encoder (Model)              [(None, 10), (None, 10),  66708     \n",
      "_________________________________________________________________\n",
      "decoder (Model)              (None, 500)               65908     \n",
      "=================================================================\n",
      "Total params: 132,616\n",
      "Trainable params: 132,616\n",
      "Non-trainable params: 0\n",
      "_________________________________________________________________\n"
     ]
    }
   ],
   "source": [
    "reconstruction_loss *= original_dim\n",
    "kl_loss = 1 + z_log_var - K.square(z_mean) - K.exp(z_log_var)\n",
    "kl_loss = K.sum(kl_loss, axis=-1)\n",
    "kl_loss *= -0.5\n",
    "vae_loss = K.mean(reconstruction_loss + kl_loss)\n",
    "vae.add_loss(vae_loss)\n",
    "vae.compile(optimizer='adam')\n",
    "vae.summary()\n",
    "# plot_model(vae, to_file='vae_mlp.png', show_shapes=True)"
   ]
  },
  {
   "cell_type": "code",
   "execution_count": 16,
   "metadata": {
    "scrolled": true
   },
   "outputs": [
    {
     "name": "stdout",
     "output_type": "stream",
     "text": [
      "Train on 2514 samples, validate on 280 samples\n",
      "Epoch 1/50\n",
      " - 0s - loss: 312.2711 - val_loss: 341.3424\n",
      "Epoch 2/50\n",
      " - 0s - loss: 312.2001 - val_loss: 341.1054\n",
      "Epoch 3/50\n",
      " - 0s - loss: 311.9438 - val_loss: 340.7256\n",
      "Epoch 4/50\n",
      " - 0s - loss: 311.6881 - val_loss: 340.9851\n",
      "Epoch 5/50\n",
      " - 0s - loss: 311.5075 - val_loss: 340.6903\n",
      "Epoch 6/50\n",
      " - 0s - loss: 311.3930 - val_loss: 340.4556\n",
      "Epoch 7/50\n",
      " - 0s - loss: 311.1832 - val_loss: 340.5117\n",
      "Epoch 8/50\n",
      " - 0s - loss: 311.0698 - val_loss: 340.2610\n",
      "Epoch 9/50\n",
      " - 0s - loss: 311.0510 - val_loss: 340.0077\n",
      "Epoch 10/50\n",
      " - 0s - loss: 310.9307 - val_loss: 340.0318\n",
      "Epoch 11/50\n",
      " - 0s - loss: 310.8196 - val_loss: 339.6543\n",
      "Epoch 12/50\n",
      " - 0s - loss: 310.7753 - val_loss: 339.8564\n",
      "Epoch 13/50\n",
      " - 0s - loss: 310.7386 - val_loss: 339.5904\n",
      "Epoch 14/50\n",
      " - 0s - loss: 310.7240 - val_loss: 340.0178\n",
      "Epoch 15/50\n",
      " - 0s - loss: 310.6254 - val_loss: 339.6321\n",
      "Epoch 16/50\n",
      " - 0s - loss: 310.6143 - val_loss: 339.1516\n",
      "Epoch 17/50\n",
      " - 0s - loss: 310.4641 - val_loss: 339.6274\n",
      "Epoch 18/50\n",
      " - 0s - loss: 310.4414 - val_loss: 339.1024\n",
      "Epoch 19/50\n",
      " - 0s - loss: 310.3062 - val_loss: 338.9622\n",
      "Epoch 20/50\n",
      " - 0s - loss: 310.2683 - val_loss: 338.5272\n",
      "Epoch 21/50\n",
      " - 0s - loss: 310.2994 - val_loss: 338.4779\n",
      "Epoch 22/50\n",
      " - 0s - loss: 310.3021 - val_loss: 338.4977\n",
      "Epoch 23/50\n",
      " - 0s - loss: 310.2260 - val_loss: 338.5136\n",
      "Epoch 24/50\n",
      " - 0s - loss: 310.1792 - val_loss: 337.9816\n",
      "Epoch 25/50\n",
      " - 0s - loss: 310.1841 - val_loss: 338.0759\n",
      "Epoch 26/50\n",
      " - 0s - loss: 310.0667 - val_loss: 338.0363\n",
      "Epoch 27/50\n",
      " - 0s - loss: 309.9819 - val_loss: 338.7574\n",
      "Epoch 28/50\n",
      " - 0s - loss: 309.9636 - val_loss: 337.9849\n",
      "Epoch 29/50\n",
      " - 0s - loss: 310.0081 - val_loss: 338.1128\n",
      "Epoch 30/50\n",
      " - 0s - loss: 309.9569 - val_loss: 337.0121\n",
      "Epoch 31/50\n",
      " - 0s - loss: 309.8982 - val_loss: 336.7749\n",
      "Epoch 32/50\n",
      " - 0s - loss: 309.8317 - val_loss: 337.2442\n",
      "Epoch 33/50\n",
      " - 0s - loss: 309.9301 - val_loss: 338.7260\n",
      "Epoch 34/50\n",
      " - 0s - loss: 309.9307 - val_loss: 337.2684\n",
      "Epoch 35/50\n",
      " - 0s - loss: 309.8298 - val_loss: 337.6577\n",
      "Epoch 36/50\n",
      " - 0s - loss: 309.7639 - val_loss: 337.0655\n",
      "Epoch 37/50\n",
      " - 0s - loss: 309.7290 - val_loss: 336.8568\n",
      "Epoch 38/50\n",
      " - 0s - loss: 309.6395 - val_loss: 337.2571\n",
      "Epoch 39/50\n",
      " - 0s - loss: 309.6358 - val_loss: 337.2642\n",
      "Epoch 40/50\n",
      " - 0s - loss: 309.5813 - val_loss: 336.8822\n",
      "Epoch 41/50\n",
      " - 0s - loss: 309.5902 - val_loss: 336.3944\n",
      "Epoch 42/50\n",
      " - 0s - loss: 309.5966 - val_loss: 336.5733\n",
      "Epoch 43/50\n",
      " - 0s - loss: 309.5616 - val_loss: 336.2283\n",
      "Epoch 44/50\n",
      " - 0s - loss: 309.5582 - val_loss: 336.4394\n",
      "Epoch 45/50\n",
      " - 0s - loss: 309.5414 - val_loss: 336.7595\n",
      "Epoch 46/50\n",
      " - 0s - loss: 309.4753 - val_loss: 336.5457\n",
      "Epoch 47/50\n",
      " - 0s - loss: 309.4937 - val_loss: 336.4300\n",
      "Epoch 48/50\n",
      " - 0s - loss: 309.4045 - val_loss: 336.2220\n",
      "Epoch 49/50\n",
      " - 0s - loss: 309.4072 - val_loss: 336.2513\n",
      "Epoch 50/50\n",
      " - 0s - loss: 309.4028 - val_loss: 336.5112\n"
     ]
    },
    {
     "data": {
      "text/plain": [
       "<keras.callbacks.History at 0x7f908c8c0358>"
      ]
     },
     "execution_count": 16,
     "metadata": {},
     "output_type": "execute_result"
    }
   ],
   "source": [
    "epochs = 50\n",
    "\n",
    "vae.fit(x_train,\n",
    "        epochs=epochs,\n",
    "        batch_size=batch_size,\n",
    "        verbose = 2,\n",
    "        validation_data=(x_test, None))"
   ]
  },
  {
   "cell_type": "code",
   "execution_count": 17,
   "metadata": {},
   "outputs": [
    {
     "name": "stdout",
     "output_type": "stream",
     "text": [
      "(280, 10)\n",
      "(280, 500)\n"
     ]
    }
   ],
   "source": [
    "z_mean, _, _ = encoder.predict(x_test, batch_size=batch_size)\n",
    "print(z_mean.shape)\n",
    "x_decoded = decoder.predict(z_mean)\n",
    "print(x_decoded.shape)"
   ]
  },
  {
   "cell_type": "code",
   "execution_count": 52,
   "metadata": {},
   "outputs": [
    {
     "data": {
      "text/plain": [
       "[<matplotlib.lines.Line2D at 0x7f908c64a780>]"
      ]
     },
     "execution_count": 52,
     "metadata": {},
     "output_type": "execute_result"
    },
    {
     "data": {
      "image/png": "[encoded data removed]",
      "text/plain": [
       "<Figure size 720x144 with 1 Axes>"
      ]
     },
     "metadata": {
      "needs_background": "light"
     },
     "output_type": "display_data"
    },
    {
     "data": {
      "image/png": "[encoded data removed]",
      "text/plain": [
       "<Figure size 432x288 with 1 Axes>"
      ]
     },
     "metadata": {
      "needs_background": "light"
     },
     "output_type": "display_data"
    }
   ],
   "source": [
    "scan_idx = 50\n",
    "plt.figure(figsize=(10, 2))\n",
    "theta = np.arange(0, (3/2) * np.pi, 0.004363323)[:1000]\n",
    "r = np.zeros((500))\n",
    "for i in range(r.shape[0]): r[i] = theta[i*2]\n",
    "\n",
    "plt.plot(np.arange(x_test.shape[1]), x_test[scan_idx,:])\n",
    "plt.plot(np.arange(x_test.shape[1]), x_decoded[scan_idx,:])\n",
    "\n",
    "plt.figure()\n",
    "ax = plt.subplot(111, projection='polar')\n",
    "ax.plot(r, x_test[scan_idx,:])\n",
    "ax.plot(r, x_decoded[scan_idx,:])\n"
   ]
  },
  {
   "cell_type": "code",
   "execution_count": null,
   "metadata": {},
   "outputs": [],
   "source": []
  }
 ],
 "metadata": {
  "kernelspec": {
   "display_name": "Python 3",
   "language": "python",
   "name": "python3"
  },
  "language_info": {
   "codemirror_mode": {
    "name": "ipython",
    "version": 3
   },
   "file_extension": ".py",
   "mimetype": "text/x-python",
   "name": "python",
   "nbconvert_exporter": "python",
   "pygments_lexer": "ipython3",
   "version": "3.5.2"
  }
 },
 "nbformat": 4,
 "nbformat_minor": 2
}
