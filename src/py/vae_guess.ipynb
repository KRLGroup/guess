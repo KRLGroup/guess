{
 "cells": [
  {
   "cell_type": "code",
   "execution_count": 52,
   "metadata": {},
   "outputs": [],
   "source": [
    "import numpy as np\n",
    "import matplotlib.pyplot as plt\n",
    "import argparse\n",
    "import os\n",
    "\n",
    "from keras.models import Model\n",
    "from keras.layers import Lambda, Input, Dense\n",
    "from keras.losses import mse, binary_crossentropy\n",
    "from keras.utils import plot_model\n",
    "from keras import backend as K"
   ]
  },
  {
   "cell_type": "code",
   "execution_count": 53,
   "metadata": {},
   "outputs": [],
   "source": [
    "class LoadLaserScans:\n",
    "    def __init__(self, datafile, clip_scans_at=8, scan_bound_percentage=0.15, verbose=False):\n",
    "        self.verbose = verbose\n",
    "        self.data = np.loadtxt(datafile).astype('float32')\n",
    "        self.clip_scans_at = clip_scans_at\n",
    "        self.timesteps = self.data[:, :1]\n",
    "        self.cmd_vel = self.data[:, 1:7]\n",
    "        self.scans = self.data[:, 7:]\n",
    "        \n",
    "        if self.verbose: \n",
    "            print(\"timesteps --\", self.timesteps.shape)\n",
    "            print(\"cmd_vel --\", self.cmd_vel.shape)\n",
    "            print(\"scans --\", self.scans.shape, \"ranges [\", np.max(self.scans), \"-\", np.min(self.scans), \"]\")\n",
    "            \n",
    "        np.clip(self.scans, a_min=0, a_max=clip_scans_at, out=self.scans)\n",
    "        \n",
    "        # bounds are due to the embodiment of the particular robot used, this should not exist!!!\n",
    "        min_bound = int(scan_bound_percentage*self.scans.shape[1])\n",
    "        max_bound = int(self.scans.shape[1] - scan_bound_percentage*self.scans.shape[1])\n",
    "        if self.verbose: print(\"scans bounds (min, max)=\", min_bound, max_bound)\n",
    "        \n",
    "        self.scans = self.scans[:, min_bound:max_bound] / self.clip_scans_at    # normalization makes the vae work\n",
    "    \n",
    "    def originalScansDim(self):\n",
    "        return self.scans.shape[1]\n",
    "    \n",
    "    def timesteps(self):\n",
    "        return self.timesteps\n",
    "    \n",
    "    def cmdVel(self):\n",
    "        return self.cmd_vel\n",
    "    \n",
    "    def getScans(self, split_at=0):\n",
    "        if split_at == 0: return self.scans\n",
    "        \n",
    "        x_train = self.scans[:int(self.scans.shape[0]*split_at),:]\n",
    "        x_test = self.scans[int(self.scans.shape[0]*split_at):,:]\n",
    "        \n",
    "        if self.verbose:\n",
    "            print(\"scans train:\", x_train.shape)\n",
    "            print(\"scans test:\", x_test.shape)\n",
    "            \n",
    "        return x_train, x_test"
   ]
  },
  {
   "cell_type": "code",
   "execution_count": 63,
   "metadata": {},
   "outputs": [],
   "source": [
    "class VAE:\n",
    "    def __init__(self, epochs=10, batch_size=128, latent_dim=10, intermediate_dim=128, verbose=False):\n",
    "        self.epochs = epochs\n",
    "        self.batch_size = batch_size\n",
    "        self.latent_dim = latent_dim\n",
    "        self.intermediate_dim = intermediate_dim\n",
    "        self.verbose = verbose\n",
    "\n",
    "    def sampling(self, args):\n",
    "        z_mean, z_log_var = args\n",
    "        batch = K.shape(z_mean)[0]\n",
    "        dim = K.int_shape(z_mean)[1]\n",
    "        # by default, random_normal has mean=0 and std=1.0\n",
    "        epsilon = K.random_normal(shape=(batch, dim))\n",
    "        return z_mean + K.exp(0.5 * z_log_var) * epsilon\n",
    "    \n",
    "    def buildModel(self, original_dim):\n",
    "        input_shape = (original_dim, )\n",
    "\n",
    "        # VAE model = encoder + decoder\n",
    "        # build encoder model\n",
    "        inputs = Input(shape=input_shape, name='encoder_input')\n",
    "        x = Dense(self.intermediate_dim, activation='relu')(inputs)\n",
    "        z_mean = Dense(self.latent_dim, name='z_mean')(x)\n",
    "        z_log_var = Dense(self.latent_dim, name='z_log_var')(x)\n",
    "\n",
    "        # use reparameterization trick to push the sampling out as input\n",
    "        # note that \"output_shape\" isn't necessary with the TensorFlow backend\n",
    "        z = Lambda(self.sampling, output_shape=(self.latent_dim,), name='z')([z_mean, z_log_var])\n",
    "\n",
    "        # instantiate encoder model\n",
    "        self.encoder = Model(inputs, [z_mean, z_log_var, z], name='encoder')\n",
    "        if self.verbose: encoder.summary()\n",
    "\n",
    "        # build decoder model\n",
    "        latent_inputs = Input(shape=(self.latent_dim,), name='z_sampling')\n",
    "        x = Dense(self.intermediate_dim, activation='relu')(latent_inputs)\n",
    "        outputs = Dense(original_dim, activation='sigmoid')(x)\n",
    "\n",
    "        # instantiate decoder model\n",
    "        self.decoder = Model(latent_inputs, outputs, name='decoder')\n",
    "        if self.verbose: decoder.summary()\n",
    "\n",
    "        # instantiate VAE model\n",
    "        outputs = self.decoder(self.encoder(inputs)[2])\n",
    "        self.vae = Model(inputs, outputs, name='vae_mlp')\n",
    "        \n",
    "        reconstruction_loss = binary_crossentropy(inputs, outputs)\n",
    "        reconstruction_loss *= original_dim\n",
    "        \n",
    "        kl_loss = 1 + z_log_var - K.square(z_mean) - K.exp(z_log_var)\n",
    "        kl_loss = K.sum(kl_loss, axis=-1)\n",
    "        kl_loss *= -0.5\n",
    "        vae_loss = K.mean(reconstruction_loss + kl_loss)\n",
    "        \n",
    "        self.vae.add_loss(vae_loss)\n",
    "        self.vae.compile(optimizer='adam')\n",
    "        if self.verbose: self.vae.summary()\n",
    "    \n",
    "    def fitModel(self, x, x_test=None):\n",
    "        if x_test == None:\n",
    "            self.vae.fit(x,\n",
    "                         epochs=self.epochs,\n",
    "                         batch_size=self.batch_size,\n",
    "                         verbose=2)\n",
    "        else:\n",
    "            self.vae.fit(x,\n",
    "                         epochs=self.epochs,\n",
    "                         batch_size=self.batch_size,\n",
    "                         verbose = 2,\n",
    "                         validation_data=(x_test, None))\n",
    "    \n",
    "    def predictEncoder(self, x, batch_size=1):\n",
    "        z_mean, _, _ = encoder.predict(x, batch_size=batch_size)\n",
    "        return z_mean\n",
    "    \n",
    "    def predictDecoder(self, z_mean):\n",
    "        x_decoded = decoder.predict(z_mean)\n",
    "        return x_decoded"
   ]
  },
  {
   "cell_type": "code",
   "execution_count": 55,
   "metadata": {},
   "outputs": [
    {
     "name": "stdout",
     "output_type": "stream",
     "text": [
      "timesteps -- (13545, 1)\n",
      "cmd_vel -- (13545, 6)\n",
      "scans -- (13545, 721) ranges [ 30.0 - 0.0 ]\n",
      "scans bounds (min, max)= 108 612\n"
     ]
    }
   ],
   "source": [
    "if __name__ == \"__main__\":\n",
    "    # ; DIAG_first_floor.txt; diag_labrococo.txt\n",
    "    ls = LoadLaserScans(\"../../dataset/diag_underground.txt\", verbose=True)"
   ]
  },
  {
   "cell_type": "code",
   "execution_count": 65,
   "metadata": {},
   "outputs": [
    {
     "name": "stdout",
     "output_type": "stream",
     "text": [
      "Epoch 1/10\n",
      " - 1s - loss: 294.8138\n",
      "Epoch 2/10\n",
      " - 1s - loss: 275.7877\n",
      "Epoch 3/10\n",
      " - 1s - loss: 272.2783\n",
      "Epoch 4/10\n",
      " - 1s - loss: 270.6009\n",
      "Epoch 5/10\n",
      " - 1s - loss: 269.4026\n",
      "Epoch 6/10\n",
      " - 1s - loss: 268.6435\n",
      "Epoch 7/10\n",
      " - 1s - loss: 268.0669\n",
      "Epoch 8/10\n",
      " - 1s - loss: 267.5504\n",
      "Epoch 9/10\n",
      " - 1s - loss: 267.2242\n",
      "Epoch 10/10\n",
      " - 1s - loss: 266.9125\n",
      "scans train: (12190, 504)\n",
      "scans test: (1355, 504)\n",
      "Train on 12190 samples, validate on 1355 samples\n",
      "Epoch 1/10\n"
     ]
    },
    {
     "name": "stderr",
     "output_type": "stream",
     "text": [
      "/home/sapienzbot/.local/lib/python3.5/site-packages/ipykernel_launcher.py:61: FutureWarning: comparison to `None` will result in an elementwise object comparison in the future.\n"
     ]
    },
    {
     "name": "stdout",
     "output_type": "stream",
     "text": [
      " - 1s - loss: 267.5506 - val_loss: 258.8218\n",
      "Epoch 2/10\n",
      " - 1s - loss: 267.2968 - val_loss: 258.7809\n",
      "Epoch 3/10\n",
      " - 1s - loss: 267.0810 - val_loss: 258.5091\n",
      "Epoch 4/10\n",
      " - 0s - loss: 266.9591 - val_loss: 258.8278\n",
      "Epoch 5/10\n",
      " - 0s - loss: 266.8806 - val_loss: 258.4895\n",
      "Epoch 6/10\n",
      " - 0s - loss: 266.7546 - val_loss: 258.5513\n",
      "Epoch 7/10\n",
      " - 0s - loss: 266.6496 - val_loss: 258.4975\n",
      "Epoch 8/10\n",
      " - 0s - loss: 266.4856 - val_loss: 258.6320\n",
      "Epoch 9/10\n",
      " - 0s - loss: 266.4152 - val_loss: 258.4996\n",
      "Epoch 10/10\n",
      " - 0s - loss: 266.3928 - val_loss: 258.4324\n"
     ]
    }
   ],
   "source": [
    "    vae = VAE()\n",
    "    vae.buildModel(ls.originalScansDim())\n",
    "    vae.fitModel(ls.getScans())\n",
    "    \n",
    "    x, x_test = ls.getScans(0.9)\n",
    "    vae.fitModel(x, x_test=x_test)"
   ]
  },
  {
   "cell_type": "code",
   "execution_count": 21,
   "metadata": {},
   "outputs": [],
   "source": [
    "scan_idx = 900\n",
    "lstep = (3/2)*np.pi/720\n",
    "theta = np.arange(bound*(3/2)*np.pi, (1 - bound)*(3/2)*np.pi, lstep) - bound*(3/2)*np.pi\n",
    "theta = theta[::-1]"
   ]
  },
  {
   "cell_type": "code",
   "execution_count": 22,
   "metadata": {},
   "outputs": [],
   "source": [
    "def getScanSegments(scans, threshold):\n",
    "    segments = []\n",
    "    iseg = 0\n",
    "    useg = bool(scans[0] > threshold)\n",
    "    for d in range(scans.shape[0]):\n",
    "        if useg and scans[d] < threshold:\n",
    "            segments.append([iseg, d, useg])\n",
    "            iseg = d\n",
    "            useg = False\n",
    "        if not useg and scans[d] > threshold:\n",
    "            segments.append([iseg, d, useg])\n",
    "            iseg = d\n",
    "            useg = True\n",
    "        if d == x.shape[0] - 1: segments.append([iseg, d, useg])\n",
    "    return segments"
   ]
  },
  {
   "cell_type": "code",
   "execution_count": 14,
   "metadata": {},
   "outputs": [
    {
     "data": {
      "image/png": "[encoded data removed]",
      "text/plain": [
       "<Figure size 432x288 with 1 Axes>"
      ]
     },
     "metadata": {
      "needs_background": "light"
     },
     "output_type": "display_data"
    },
    {
     "data": {
      "image/png": "[encoded data removed]",
      "text/plain": [
       "<Figure size 432x288 with 1 Axes>"
      ]
     },
     "metadata": {
      "needs_background": "light"
     },
     "output_type": "display_data"
    }
   ],
   "source": [
    "x = np.arange(x_test.shape[1])\n",
    "segments = getScanSegments(x_test[scan_idx,:], 0.99)\n",
    "# print(np.array(segments).shape, \"--\", segments)\n",
    "\n",
    "plt.figure()\n",
    "plt.plot(x, x_decoded[scan_idx,:], color='lightgray')\n",
    "for s in segments:\n",
    "    if s[2]: \n",
    "        col = '#ff7f0e'\n",
    "        plt.plot(x[s[0]:s[1]], x_decoded[scan_idx, s[0]:s[1]], color=col)\n",
    "    else:\n",
    "        col = '#1f77b4'\n",
    "        plt.plot(x[s[0]:s[1]], x_test[scan_idx, s[0]:s[1]], color=col)\n",
    "\n",
    "plt.figure()\n",
    "ax = plt.subplot(111, projection='polar')\n",
    "ax.plot(theta, x_decoded[scan_idx, :], color='lightgray')\n",
    "for s in segments:\n",
    "    if s[2]: \n",
    "        col = '#ff7f0e'\n",
    "        ax.plot(theta[s[0]:s[1]], x_decoded[scan_idx, s[0]:s[1]], color=col)\n",
    "    else:\n",
    "        col = '#1f77b4'\n",
    "        ax.plot(theta[s[0]:s[1]], x_test[scan_idx, s[0]:s[1]], color=col)"
   ]
  },
  {
   "cell_type": "code",
   "execution_count": null,
   "metadata": {},
   "outputs": [],
   "source": []
  }
 ],
 "metadata": {
  "kernelspec": {
   "display_name": "Python 3",
   "language": "python",
   "name": "python3"
  },
  "language_info": {
   "codemirror_mode": {
    "name": "ipython",
    "version": 3
   },
   "file_extension": ".py",
   "mimetype": "text/x-python",
   "name": "python",
   "nbconvert_exporter": "python",
   "pygments_lexer": "ipython3",
   "version": "3.5.2"
  }
 },
 "nbformat": 4,
 "nbformat_minor": 2
}
