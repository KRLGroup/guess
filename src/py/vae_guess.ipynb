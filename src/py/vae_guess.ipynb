{
 "cells": [
  {
   "cell_type": "code",
   "execution_count": 79,
   "metadata": {},
   "outputs": [],
   "source": [
    "import numpy as np\n",
    "import matplotlib.pyplot as plt\n",
    "import argparse\n",
    "import os\n",
    "\n",
    "from keras.models import Model\n",
    "from keras.layers import Lambda, Input, Dense\n",
    "from keras.losses import mse, binary_crossentropy\n",
    "from keras.utils import plot_model\n",
    "from keras import backend as K"
   ]
  },
  {
   "cell_type": "code",
   "execution_count": 80,
   "metadata": {},
   "outputs": [],
   "source": [
    "def sampling(args):\n",
    "    z_mean, z_log_var = args\n",
    "    batch = K.shape(z_mean)[0]\n",
    "    dim = K.int_shape(z_mean)[1]\n",
    "    # by default, random_normal has mean=0 and std=1.0\n",
    "    epsilon = K.random_normal(shape=(batch, dim))\n",
    "    return z_mean + K.exp(0.5 * z_log_var) * epsilon"
   ]
  },
  {
   "cell_type": "code",
   "execution_count": 81,
   "metadata": {},
   "outputs": [],
   "source": [
    "clip_scans_at = 8\n",
    "# data = np.loadtxt(\"../../dataset/DIAG_first_floor.txt\").astype('float32')\n",
    "data = np.loadtxt(\"../../dataset/diag_underground.txt\").astype('float32')\n",
    "# data = np.loadtxt(\"../../dataset/diag_labrococo.txt\").astype('float32')"
   ]
  },
  {
   "cell_type": "code",
   "execution_count": 83,
   "metadata": {},
   "outputs": [
    {
     "name": "stdout",
     "output_type": "stream",
     "text": [
      "(13545, 721) 30.0 0.0\n",
      "(13545, 721) 8.0 0.0\n",
      "bounds (13545, 721) 108 612\n",
      "(13545, 504) 1.0 0.089875\n"
     ]
    }
   ],
   "source": [
    "ts = data[:, :7]\n",
    "scans = data[:, 7:]\n",
    "print(scans.shape, np.max(scans), np.min(scans))\n",
    "np.clip(scans, a_min=0, a_max=clip_scans_at, out=scans)\n",
    "      \n",
    "bound = 0.15\n",
    "min_bound = int(bound*scans.shape[1])\n",
    "max_bound = int(scans.shape[1] - bound*scans.shape[1])\n",
    "print(\"bounds\", scans.shape, min_bound, max_bound)\n",
    "scans = data[:, min_bound:max_bound] / clip_scans_at\n",
    "\n",
    "print(scans.shape, np.max(scans), np.min(scans))"
   ]
  },
  {
   "cell_type": "code",
   "execution_count": 5,
   "metadata": {},
   "outputs": [
    {
     "data": {
      "text/plain": [
       "[<matplotlib.lines.Line2D at 0x7f74bb542f98>]"
      ]
     },
     "execution_count": 5,
     "metadata": {},
     "output_type": "execute_result"
    },
    {
     "data": {
      "image/png": "[encoded data removed]",
      "text/plain": [
       "<Figure size 720x144 with 1 Axes>"
      ]
     },
     "metadata": {
      "needs_background": "light"
     },
     "output_type": "display_data"
    }
   ],
   "source": [
    "scan_idx = 25\n",
    "plt.figure(figsize=(10, 2))\n",
    "# plt.plot(np.arange(scans.shape[1]), scans[scan_idx,:])"
   ]
  },
  {
   "cell_type": "code",
   "execution_count": 6,
   "metadata": {},
   "outputs": [
    {
     "name": "stdout",
     "output_type": "stream",
     "text": [
      "scans: (13545, 504)\n",
      "xtrain: (12190, 504)\n",
      "xtest: (1355, 504)\n"
     ]
    }
   ],
   "source": [
    "split_data_at = .9\n",
    "x_train = scans[:int(scans.shape[0]*split_data_at),:]\n",
    "x_test = scans[int(scans.shape[0]*split_data_at):,:]\n",
    "original_dim = scans.shape[1]\n",
    "\n",
    "print(\"scans:\", scans.shape)\n",
    "print(\"xtrain:\", x_train.shape)\n",
    "print(\"xtest:\", x_test.shape)"
   ]
  },
  {
   "cell_type": "code",
   "execution_count": 7,
   "metadata": {},
   "outputs": [
    {
     "name": "stdout",
     "output_type": "stream",
     "text": [
      "__________________________________________________________________________________________________\n",
      "Layer (type)                    Output Shape         Param #     Connected to                     \n",
      "==================================================================================================\n",
      "encoder_input (InputLayer)      (None, 504)          0                                            \n",
      "__________________________________________________________________________________________________\n",
      "dense_1 (Dense)                 (None, 128)          64640       encoder_input[0][0]              \n",
      "__________________________________________________________________________________________________\n",
      "z_mean (Dense)                  (None, 10)           1290        dense_1[0][0]                    \n",
      "__________________________________________________________________________________________________\n",
      "z_log_var (Dense)               (None, 10)           1290        dense_1[0][0]                    \n",
      "__________________________________________________________________________________________________\n",
      "z (Lambda)                      (None, 10)           0           z_mean[0][0]                     \n",
      "                                                                 z_log_var[0][0]                  \n",
      "==================================================================================================\n",
      "Total params: 67,220\n",
      "Trainable params: 67,220\n",
      "Non-trainable params: 0\n",
      "__________________________________________________________________________________________________\n",
      "_________________________________________________________________\n",
      "Layer (type)                 Output Shape              Param #   \n",
      "=================================================================\n",
      "z_sampling (InputLayer)      (None, 10)                0         \n",
      "_________________________________________________________________\n",
      "dense_2 (Dense)              (None, 128)               1408      \n",
      "_________________________________________________________________\n",
      "dense_3 (Dense)              (None, 504)               65016     \n",
      "=================================================================\n",
      "Total params: 66,424\n",
      "Trainable params: 66,424\n",
      "Non-trainable params: 0\n",
      "_________________________________________________________________\n"
     ]
    }
   ],
   "source": [
    "# network parameters\n",
    "input_shape = (original_dim, )\n",
    "intermediate_dim = 128\n",
    "batch_size = 128\n",
    "latent_dim = 10\n",
    "\n",
    "# VAE model = encoder + decoder\n",
    "# build encoder model\n",
    "inputs = Input(shape=input_shape, name='encoder_input')\n",
    "x = Dense(intermediate_dim, activation='relu')(inputs)\n",
    "z_mean = Dense(latent_dim, name='z_mean')(x)\n",
    "z_log_var = Dense(latent_dim, name='z_log_var')(x)\n",
    "\n",
    "# use reparameterization trick to push the sampling out as input\n",
    "# note that \"output_shape\" isn't necessary with the TensorFlow backend\n",
    "z = Lambda(sampling, output_shape=(latent_dim,), name='z')([z_mean, z_log_var])\n",
    "\n",
    "# instantiate encoder model\n",
    "encoder = Model(inputs, [z_mean, z_log_var, z], name='encoder')\n",
    "encoder.summary()\n",
    "#plot_model(encoder, to_file='vae_mlp_encoder.png', show_shapes=True)\n",
    "\n",
    "# build decoder model\n",
    "latent_inputs = Input(shape=(latent_dim,), name='z_sampling')\n",
    "x = Dense(intermediate_dim, activation='relu')(latent_inputs)\n",
    "outputs = Dense(original_dim, activation='sigmoid')(x)\n",
    "\n",
    "# instantiate decoder model\n",
    "decoder = Model(latent_inputs, outputs, name='decoder')\n",
    "# decoder.summary()\n",
    "\n",
    "# instantiate VAE model\n",
    "outputs = decoder(encoder(inputs)[2])\n",
    "vae = Model(inputs, outputs, name='vae_mlp')"
   ]
  },
  {
   "cell_type": "code",
   "execution_count": 8,
   "metadata": {},
   "outputs": [],
   "source": [
    "# models = (encoder, decoder)\n",
    "# data = x_test\n",
    "reconstruction_loss = binary_crossentropy(inputs, outputs)"
   ]
  },
  {
   "cell_type": "code",
   "execution_count": 9,
   "metadata": {
    "scrolled": true
   },
   "outputs": [
    {
     "name": "stdout",
     "output_type": "stream",
     "text": [
      "_________________________________________________________________\n",
      "Layer (type)                 Output Shape              Param #   \n",
      "=================================================================\n",
      "encoder_input (InputLayer)   (None, 504)               0         \n",
      "_________________________________________________________________\n",
      "encoder (Model)              [(None, 10), (None, 10),  67220     \n",
      "_________________________________________________________________\n",
      "decoder (Model)              (None, 504)               66424     \n",
      "=================================================================\n",
      "Total params: 133,644\n",
      "Trainable params: 133,644\n",
      "Non-trainable params: 0\n",
      "_________________________________________________________________\n"
     ]
    }
   ],
   "source": [
    "reconstruction_loss *= original_dim\n",
    "kl_loss = 1 + z_log_var - K.square(z_mean) - K.exp(z_log_var)\n",
    "kl_loss = K.sum(kl_loss, axis=-1)\n",
    "kl_loss *= -0.5\n",
    "vae_loss = K.mean(reconstruction_loss + kl_loss)\n",
    "vae.add_loss(vae_loss)\n",
    "vae.compile(optimizer='adam')\n",
    "# vae.summary()\n"
   ]
  },
  {
   "cell_type": "code",
   "execution_count": 10,
   "metadata": {
    "scrolled": true
   },
   "outputs": [
    {
     "name": "stdout",
     "output_type": "stream",
     "text": [
      "Train on 12190 samples, validate on 1355 samples\n",
      "Epoch 1/50\n",
      " - 1s - loss: 294.6852 - val_loss: 275.3016\n",
      "Epoch 2/50\n",
      " - 0s - loss: 276.3161 - val_loss: 269.0838\n",
      "Epoch 3/50\n",
      " - 0s - loss: 272.9354 - val_loss: 266.9677\n",
      "Epoch 4/50\n",
      " - 0s - loss: 271.5605 - val_loss: 265.6543\n",
      "Epoch 5/50\n",
      " - 0s - loss: 270.5854 - val_loss: 263.4027\n",
      "Epoch 6/50\n",
      " - 0s - loss: 269.7590 - val_loss: 262.4627\n",
      "Epoch 7/50\n",
      " - 0s - loss: 269.1040 - val_loss: 261.7675\n",
      "Epoch 8/50\n",
      " - 0s - loss: 268.5706 - val_loss: 261.5644\n",
      "Epoch 9/50\n",
      " - 0s - loss: 268.1811 - val_loss: 261.0059\n",
      "Epoch 10/50\n",
      " - 0s - loss: 267.7991 - val_loss: 260.6684\n",
      "Epoch 11/50\n",
      " - 0s - loss: 267.5220 - val_loss: 259.9887\n",
      "Epoch 12/50\n",
      " - 0s - loss: 267.2776 - val_loss: 259.6432\n",
      "Epoch 13/50\n",
      " - 0s - loss: 267.1899 - val_loss: 259.4804\n",
      "Epoch 14/50\n",
      " - 0s - loss: 266.9391 - val_loss: 259.2941\n",
      "Epoch 15/50\n",
      " - 0s - loss: 266.8527 - val_loss: 259.6906\n",
      "Epoch 16/50\n",
      " - 0s - loss: 266.6752 - val_loss: 259.1955\n",
      "Epoch 17/50\n",
      " - 0s - loss: 266.6073 - val_loss: 258.7261\n",
      "Epoch 18/50\n",
      " - 0s - loss: 266.5120 - val_loss: 259.0278\n",
      "Epoch 19/50\n",
      " - 0s - loss: 266.4329 - val_loss: 258.7124\n",
      "Epoch 20/50\n",
      " - 0s - loss: 266.3229 - val_loss: 259.0322\n",
      "Epoch 21/50\n",
      " - 0s - loss: 266.2830 - val_loss: 259.3395\n",
      "Epoch 22/50\n",
      " - 0s - loss: 266.1983 - val_loss: 258.8324\n",
      "Epoch 23/50\n",
      " - 0s - loss: 266.2082 - val_loss: 258.5969\n",
      "Epoch 24/50\n",
      " - 0s - loss: 266.0796 - val_loss: 258.6163\n",
      "Epoch 25/50\n",
      " - 0s - loss: 266.0539 - val_loss: 258.4013\n",
      "Epoch 26/50\n",
      " - 0s - loss: 265.9553 - val_loss: 258.5719\n",
      "Epoch 27/50\n",
      " - 0s - loss: 265.9241 - val_loss: 258.3845\n",
      "Epoch 28/50\n",
      " - 0s - loss: 265.8524 - val_loss: 258.5697\n",
      "Epoch 29/50\n",
      " - 0s - loss: 265.8637 - val_loss: 258.3215\n",
      "Epoch 30/50\n",
      " - 0s - loss: 265.7956 - val_loss: 258.0009\n",
      "Epoch 31/50\n",
      " - 0s - loss: 265.7639 - val_loss: 258.4718\n",
      "Epoch 32/50\n",
      " - 0s - loss: 265.7480 - val_loss: 258.2683\n",
      "Epoch 33/50\n",
      " - 0s - loss: 265.8168 - val_loss: 258.0267\n",
      "Epoch 34/50\n",
      " - 0s - loss: 265.6818 - val_loss: 258.4995\n",
      "Epoch 35/50\n",
      " - 0s - loss: 265.6402 - val_loss: 258.1943\n",
      "Epoch 36/50\n",
      " - 0s - loss: 265.5895 - val_loss: 258.1553\n",
      "Epoch 37/50\n",
      " - 0s - loss: 265.5893 - val_loss: 258.1505\n",
      "Epoch 38/50\n",
      " - 0s - loss: 265.5516 - val_loss: 258.1522\n",
      "Epoch 39/50\n",
      " - 0s - loss: 265.5200 - val_loss: 257.9856\n",
      "Epoch 40/50\n",
      " - 0s - loss: 265.5379 - val_loss: 258.0974\n",
      "Epoch 41/50\n",
      " - 0s - loss: 265.4163 - val_loss: 257.6836\n",
      "Epoch 42/50\n",
      " - 1s - loss: 265.4080 - val_loss: 258.0580\n",
      "Epoch 43/50\n",
      " - 0s - loss: 265.3697 - val_loss: 257.7952\n",
      "Epoch 44/50\n",
      " - 0s - loss: 265.4083 - val_loss: 258.0865\n",
      "Epoch 45/50\n",
      " - 0s - loss: 265.3602 - val_loss: 257.6570\n",
      "Epoch 46/50\n",
      " - 1s - loss: 265.3442 - val_loss: 258.0263\n",
      "Epoch 47/50\n",
      " - 0s - loss: 265.3302 - val_loss: 258.0199\n",
      "Epoch 48/50\n",
      " - 0s - loss: 265.3047 - val_loss: 257.7329\n",
      "Epoch 49/50\n",
      " - 0s - loss: 265.3708 - val_loss: 257.8221\n",
      "Epoch 50/50\n",
      " - 0s - loss: 265.2542 - val_loss: 257.6720\n"
     ]
    },
    {
     "data": {
      "text/plain": [
       "<keras.callbacks.History at 0x7f74aece39e8>"
      ]
     },
     "execution_count": 10,
     "metadata": {},
     "output_type": "execute_result"
    }
   ],
   "source": [
    "epochs = 50\n",
    "\n",
    "vae.fit(x_train,\n",
    "        epochs=epochs,\n",
    "        batch_size=batch_size,\n",
    "        verbose = 2,\n",
    "        validation_data=(x_test, None))"
   ]
  },
  {
   "cell_type": "code",
   "execution_count": 11,
   "metadata": {},
   "outputs": [
    {
     "name": "stdout",
     "output_type": "stream",
     "text": [
      "(1355, 10)\n",
      "(1355, 504)\n"
     ]
    }
   ],
   "source": [
    "z_mean, _, _ = encoder.predict(x_test, batch_size=batch_size)\n",
    "print(z_mean.shape)\n",
    "x_decoded = decoder.predict(z_mean)\n",
    "print(x_decoded.shape)"
   ]
  },
  {
   "cell_type": "code",
   "execution_count": 75,
   "metadata": {},
   "outputs": [
    {
     "name": "stdout",
     "output_type": "stream",
     "text": [
      "(504,)\n"
     ]
    }
   ],
   "source": [
    "scan_idx = 900\n",
    "lstep = (3/2)*np.pi/720\n",
    "theta = np.arange(bound*(3/2)*np.pi, (1 - bound)*(3/2)*np.pi, lstep) - bound*(3/2)*np.pi\n",
    "theta = theta[::-1]\n",
    "print(theta.shape)"
   ]
  },
  {
   "cell_type": "code",
   "execution_count": 73,
   "metadata": {},
   "outputs": [],
   "source": [
    "def getScanSegments(scans, threshold):\n",
    "    segments = []\n",
    "    iseg = 0\n",
    "    useg = bool(scans[0] > threshold)\n",
    "    for d in range(scans.shape[0]):\n",
    "        if useg and scans[d] < threshold:\n",
    "            segments.append([iseg, d, useg])\n",
    "            iseg = d\n",
    "            useg = False\n",
    "        if not useg and scans[d] > threshold:\n",
    "            segments.append([iseg, d, useg])\n",
    "            iseg = d\n",
    "            useg = True\n",
    "        if d == x.shape[0] - 1: segments.append([iseg, d, useg])\n",
    "    return segments"
   ]
  },
  {
   "cell_type": "code",
   "execution_count": 91,
   "metadata": {},
   "outputs": [
    {
     "data": {
      "image/png": "[encoded data removed]",
      "text/plain": [
       "<Figure size 432x288 with 1 Axes>"
      ]
     },
     "metadata": {
      "needs_background": "light"
     },
     "output_type": "display_data"
    },
    {
     "data": {
      "image/png": "[encoded data removed]",
      "text/plain": [
       "<Figure size 432x288 with 1 Axes>"
      ]
     },
     "metadata": {
      "needs_background": "light"
     },
     "output_type": "display_data"
    }
   ],
   "source": [
    "x = np.arange(x_test.shape[1])\n",
    "segments = getScanSegments(x_test[scan_idx,:], 0.99)\n",
    "# print(np.array(segments).shape, \"--\", segments)\n",
    "\n",
    "plt.figure()\n",
    "plt.plot(x, x_decoded[scan_idx,:], color='lightgray')\n",
    "for s in segments:\n",
    "    if s[2]: \n",
    "        col = '#ff7f0e'\n",
    "        plt.plot(x[s[0]:s[1]], x_decoded[scan_idx, s[0]:s[1]], color=col)\n",
    "    else:\n",
    "        col = '#1f77b4'\n",
    "        plt.plot(x[s[0]:s[1]], x_test[scan_idx, s[0]:s[1]], color=col)\n",
    "\n",
    "plt.figure()\n",
    "ax = plt.subplot(111, projection='polar')\n",
    "ax.plot(theta, x_decoded[scan_idx, :], color='lightgray')\n",
    "for s in segments:\n",
    "    if s[2]: \n",
    "        col = '#ff7f0e'\n",
    "        ax.plot(theta[s[0]:s[1]], x_decoded[scan_idx, s[0]:s[1]], color=col)\n",
    "    else:\n",
    "        col = '#1f77b4'\n",
    "        ax.plot(theta[s[0]:s[1]], x_test[scan_idx, s[0]:s[1]], color=col)"
   ]
  },
  {
   "cell_type": "code",
   "execution_count": null,
   "metadata": {},
   "outputs": [],
   "source": []
  }
 ],
 "metadata": {
  "kernelspec": {
   "display_name": "Python 3",
   "language": "python",
   "name": "python3"
  },
  "language_info": {
   "codemirror_mode": {
    "name": "ipython",
    "version": 3
   },
   "file_extension": ".py",
   "mimetype": "text/x-python",
   "name": "python",
   "nbconvert_exporter": "python",
   "pygments_lexer": "ipython3",
   "version": "3.5.2"
  }
 },
 "nbformat": 4,
 "nbformat_minor": 2
}
